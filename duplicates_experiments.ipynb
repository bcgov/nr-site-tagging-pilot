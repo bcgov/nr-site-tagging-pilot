{
 "cells": [
  {
   "cell_type": "code",
   "execution_count": 1,
   "id": "4a74bdca",
   "metadata": {},
   "outputs": [],
   "source": [
    "from utils.loader import load_pdfs, extract_text_from_pdf, clean_ocr_text\n",
    "import config\n",
    "from pathlib import Path\n",
    "from difflib import SequenceMatcher"
   ]
  },
  {
   "cell_type": "markdown",
   "id": "659bd31d",
   "metadata": {},
   "source": [
    "### Why are duplicates scoring low on Page-window · min page ROUGE-1 F1 score?\n",
    "This notebook was created in a temporary environment with just two duplicates to test the differences between them.\n",
    "\n",
    "We'll compare just these 2 files, which are exact duplicates but are problematically found to have page-window ROUGE-1 F1 = 0.00 "
   ]
  },
  {
   "cell_type": "code",
   "execution_count": 2,
   "id": "752c1120",
   "metadata": {},
   "outputs": [
    {
     "data": {
      "text/plain": [
       "[PosixPath('dupes/2535-REPORT K-V_1.1_2000-06-01 Electromagnetic Terrain Conductivity Mapping - Okanagan University College.pdf'),\n",
       " PosixPath('dupes/2535-REPORT K-V_1.2_1999-10-21 Electromagnetic Terrain Conductivity Mapping - Okanagan University College.pdf')]"
      ]
     },
     "execution_count": 2,
     "metadata": {},
     "output_type": "execute_result"
    }
   ],
   "source": [
    "# This folder does not exist in repo, created locally for ease of experimentation\n",
    "\n",
    "files = load_pdfs(Path(\"dupes\"))\n",
    "files"
   ]
  },
  {
   "cell_type": "code",
   "execution_count": 3,
   "id": "b2b85370",
   "metadata": {},
   "outputs": [],
   "source": [
    "text1 = extract_text_from_pdf(files[0])\n",
    "text2 = extract_text_from_pdf(files[1])"
   ]
  },
  {
   "cell_type": "markdown",
   "id": "0ae2ce26",
   "metadata": {},
   "source": [
    "We can observe that the two files have slightly different OCR contents (eg. `text2` appears to have captured some additional content/noise in the header)"
   ]
  },
  {
   "cell_type": "code",
   "execution_count": 4,
   "id": "d506a062",
   "metadata": {},
   "outputs": [
    {
     "name": "stdout",
     "output_type": "stream",
     "text": [
      "Golder Associates Ltd.\n",
      "500 - 4260 Still Creek Drive\n",
      "Burnaby, British Columbia, Canada V5C 6C6\n",
      "Telephone (604) 298-6623\n",
      "Fax (604) 298-5253\n",
      "rGolder \n",
      "Associates\n",
      "REPORT ON\n",
      "ELECTROMAGNETIC TERRAIN \n",
      "CONDUCTrVITY MAPPING: \n",
      "OKANAGAN UNIVERSITY COLLEGE, \n",
      "KELOWNA, B.C.\n",
      "56350 -2g/s-53^ K-V\n",
      "Submitted to:\n",
      "Reid Crowther and Partners Ltd. \n",
      "Suite 201 - 3275 Lakeshore Dr.\n",
      "Kelowna, B.C.\n",
      "V1W 3S9\n",
      "Attention: Mr. Al Gartner\n",
      "MINISTRY OF \n",
      "ENVIRONMENT, LANDS & P*^®\n",
      "JUN 0 1 2000\n",
      "POLLUTION PREVENTION \n",
      "AND REMEDIATION BRANCH\n",
      "DISTRIBUTION:\n",
      "10 Copies - Reid Crowther and Partners Ltd., Kelowna, B.C.\n",
      "1 \n",
      "Copy Reid Crowther and Partners Ltd., Victoria, B.C.\n",
      "2 \n",
      "Copies- Golder Associates Ltd., Burnaby, B.C.\n",
      "October 1999\n",
      "992-1897\n",
      "OFFICES IN AUSTRALIA, CANADA, GERMANY, HUNGARY, ITALY, SWEDEN, UNITED KINGDOM, UNITED STATES\n",
      "October 21, 1999-i-992-1897\n",
      "TABLE OF CONTENTS\n",
      "Table of Contentsi \n",
      "List of Figuresi\n",
      "SECTION \n",
      "PAGE\n",
      "1 .0 SCOPE OF WORK................................................................................................ 1\n",
      "2 .0 METHODOLOGY AND SURVEY...................................................................... 1\n",
      "2.1 \n",
      "Electromagnetic Terrain Conductivity Mapping (EM-31)....................... 2\n",
      "2.2 \n",
      "Field Procedure and Acquisition Parameters.............................................4\n",
      "2.3 \n",
      "Site Conditions...........................................................................................4\n",
      "3 .0 RESULTS...............................................................................................................5\n",
      "3.1 \n",
      "Conductivity Anomalies with Air Photo Correlation............................... 7\n",
      "3.2 \n",
      "Channel-like Conductivity Anomalies having no Air Photo \n",
      "Correlation.....................................................................................8\n",
      "3.3 \n",
      "Distinct Indications of Buried Metal or Debris..........................................9\n",
      "4 .0 SUMMARY AND CONCLUSIONS................................................................... 10\n",
      "5 .0 CLOSURE.............................................................................................................11\n",
      "List of Figures\n",
      "Figure 1 \n",
      "Figure 2 \n",
      "Figure 3 \n",
      "Figure 4 \n",
      "Figure 5 \n",
      "Figure 6 \n",
      "Figure 7\n",
      "Figure 8 \n",
      "Figure 9\n",
      "Site Location Map\n",
      "Site Map\n",
      "1938 Air Photo with Lot Boundaries\n",
      "Electromagnetic Measurement\n",
      "Geonics Electromagnetic Response Characteristics\n",
      "EM-31 Apparent Conductivity\n",
      "EM-31 In-Phase Response\n",
      "EM-31 Interpretation\n",
      "EM-31 Interpretation with 1938 Air Photo\n",
      "Golder Associates\n",
      "October 21, 1999\n",
      "- 1 -\n",
      "992-1897\n",
      "1 .0 SCOPE OF WORK\n",
      "As requested, Golder Associates Ltd. (Golder) have carried out an electromagnetic terrain \n",
      "conductivity survey (EM-31) at the Okanagan University College campus (OUC) on \n",
      "K.L.O. Road in Kelowna, BC (Figures 1 and 2). The objective of the survey was to \n",
      "delineate buried oxbow channels that were in-filled with landfill debris and, in particular, \n",
      "to locate potentially hazardous targets on the scale of isolated metallic storage tanks and \n",
      "55 gallon drums, particularly within the soccer field area. The geophysical investigation \n",
      "excluded the eastern quarter of the campus (east of Lot 39 in Figure 3) since the former \n",
      "City of Kelowna Landfill (operated until the 1960’s) never included this eastern area. \n",
      "The survey consisted of two areas as shown in Figure 2:\n",
      "1. \n",
      "the initial area of interest, the northern half of Lot 39 (Figure 3) encompassing the \n",
      "present soccer field, is the site of the proposed Kelowna Secondary School (KSS) \n",
      "sports field; and\n",
      "2. \n",
      "the secondary area of interest consists of the majority of the remaining \n",
      "three-quarters of the OUC campus.\n",
      "Outside of the KSS site the survey was optimized with a lower station density to provide \n",
      "the desired coverage at a spatial resolution sufficient to locate most of the possible \n",
      "isolated drum-like targets. Interpretation of the resulting contoured data indicated \n",
      "different areas, or concentrations, of landfill debris, including buried metal and possibly \n",
      "impacted soil to approximately 5.6 m depth.\n",
      "Fieldwork for this investigation was conducted by Rob Luzitano, a Golder geophysicist, \n",
      "from August 4 to 10, 1999. This report summarizes the methods and results of the \n",
      "investigation.\n",
      "2 .0 METHODOLOGY AND SURVEY\n",
      "A clear definition of survey objectives dictates the geophysical methodology to be \n",
      "carried-out. Initially, a Geonics EM-61 survey (a depth-focused metal detector with a \n",
      "3.5m investigation range) was considered for locating exclusively buried metal, \n",
      "particularly drum-sized targets. Since delineating impacted soil and detecting buried \n",
      "non-metallic debris was also of interest an EM conductivity survey was chosen. \n",
      "Selection of appropriate instrumentation also involves a trade-off between depth of \n",
      "investigation and spatial resolution. In general, depth of investigation increases with coil \n",
      "Golder Associates\n",
      "October 21, 1999\n",
      "-2-\n",
      "992-1897\n",
      "separation (Section 2.1) and decreases with frequency. Spatial resolution, however, is \n",
      "improved by decreasing the intercoil spacing and, consequently the volume of soil over \n",
      "which a given reading is averaged.\n",
      "Resolution is defined as the ability to discriminate a target from the background variation \n",
      "or from a neighboring “target.” The concern in this survey is to discriminate from the \n",
      "background variation. Resolution depends primarily on four factors:\n",
      "1. \n",
      "electrical size, i.e., the combination of the target’s physical size and contrast from \n",
      "the host material;\n",
      "2. \n",
      "depth of burial;\n",
      "3. \n",
      "coil spacing; and\n",
      "4. \n",
      "station spacing.\n",
      "Due to this combination of factors, resolution is difficult to quantify with a single value \n",
      "for a given survey. For a metallic target expected to produce a relatively clear response, \n",
      "such as a 55 gallon drum, resolution may depend more on the station spacing. In this \n",
      "case the station spacing of an EM-31 survey should be on the order of 1 to 2 times the \n",
      "target size to ensure adequate sampling to readily resolve the metallic target. The \n",
      "expected resolution for the survey reported here, with 1 m station spacing, is such that an \n",
      "isolated 55 gallon drum-like target, buried in a vertical orientation, could be located on \n",
      "the reference grid within an approximately 3 m hemispherical radius.\n",
      "The survey reported here was carried-out using a Geonics EM-31 which provides an \n",
      "approximate depth of investigation of 5.6 m.\n",
      "2.1 \n",
      "Electromagnetic Terrain Conductivity Mapping (EM-31)\n",
      "The Geonics EM-31 electromagnetic terrain conductivity meter measures soil \n",
      "conductivity from the inductive response of the ground. Basic principles of \n",
      "electromagnetic conductivity mapping are illustrated in Figure 4. An alternating current \n",
      "is supplied to a wire transmitter coil, producing a time-varying (9.8 KHz) magnetic field \n",
      "Bp that penetrates the ground and induces electrical eddy currents Je within the subsurface \n",
      "materials. These eddy currents give rise to a secondary magnetic field Bs that is \n",
      "measured, together with the primary field, by the receiver coil. Two components of the \n",
      "secondary field are measured:\n",
      "Golder Associates\n",
      "\n"
     ]
    }
   ],
   "source": [
    "print(text1)"
   ]
  },
  {
   "cell_type": "code",
   "execution_count": null,
   "id": "b04eb2e2",
   "metadata": {},
   "outputs": [
    {
     "name": "stdout",
     "output_type": "stream",
     "text": [
      "Victoria File #\n",
      "WSsrWW^’3S^i\n",
      "I\n",
      " ' “iSKSS^'^’^SSM^^ \n",
      "te^s^j^ii^wi^-^- 'ZU'S\n",
      "^i>^u9aMa«(Hm\n",
      "26 \n",
      "- ZO /2^35\n",
      "Golder Associates Ltd.\n",
      "500 - 4260 Still Creek Drive\n",
      "Burnaby, British Columbia, Canada V5C 6C6\n",
      "Telephone (604) 298-6623\n",
      "Fax (604) 298-5253\n",
      "rGolder \n",
      "Associates\n",
      "REPORT ON\n",
      "ENTERED ON THE SITE \n",
      "INFORMATION SYSfuM\n",
      "Victoria File #\n",
      "26250-20/. '^3^ Ki/\n",
      "ELECTROMAGNETIC TERRAIN \n",
      "CONDUCTIVITY MAPPING: \n",
      "OKANAGAN UNIVERSITY COLLEGE, \n",
      "KELOWNA, B.C.\n",
      "Submitted to:\n",
      "Reid Crowther and Partners Ltd. \n",
      "Suite 201 - 3275 Lakeshore Dr. \n",
      "Kelowna, B.C.\n",
      "V1W 3S9\n",
      "Attention: Mr. Al Gartner\n",
      "DISTRIBUTION:\n",
      "10 Copies- Reid Crowther and Partners Ltd., Kelowna, B.C.\n",
      "1 \n",
      "Copy Reid Crowther and Partners Ltd., Victoria, B.C.\n",
      "2 \n",
      "Copies - Golder Associates Ltd., Burnaby, B.C.\n",
      "October 1999\n",
      "992-1897\n",
      "OFFICES IN AUSTRALIA, CANADA, GERMANY, HUNGARY, ITALY, SWEDEN, UNITED KINGDOM, UNITED STATES\n",
      "October 21,1999 \n",
      "- i- \n",
      "992-1897\n",
      "TABLE OF CONTENTS\n",
      "Table of Contentsi\n",
      "List of Figuresi\n",
      "SECTION \n",
      "PAGE\n",
      "1 .0 SCOPE OF WORK.................................................................................................1\n",
      "2 .0 METHODOLOGY AND SURVEY.......................................................................1\n",
      "2.1 \n",
      "Electromagnetic Terrain Conductivity Mapping (EM-31)......................2\n",
      "2.2 \n",
      "Field Procedure and Acquisition Parameters.............................................4\n",
      "2.3 \n",
      "Site Conditions...........................................................................................4\n",
      "3 .0 RESULTS................................................................................................................5\n",
      "3.1 \n",
      "Conductivity Anomalies with Air Photo Correlation................................7\n",
      "3.2 \n",
      "Channel-like Conductivity Anomalies having no Air Photo \n",
      "Correlation.....................................................................................8\n",
      "3.3 \n",
      "Distinct Indications of Buried Metal or Debris..........................................9\n",
      "4 .0 SUMMARY AND CONCLUSIONS.................................................................... 10\n",
      "5 .0 CLOSURE............................................................................................................. 11\n",
      "List of Figures\n",
      "Figure 1 \n",
      "Site Location Map\n",
      "Figure 2 \n",
      "Site Map\n",
      "Figure 3 \n",
      "1938 Air Photo with Lot Boundaries\n",
      "Figure 4 \n",
      "Electromagnetic Measurement\n",
      "Figure 5 \n",
      "Geonics Electromagnetic Response Characteristics\n",
      "Figured \n",
      "EM-31 Apparent Conductivity\n",
      "Figure 7 \n",
      "EM-31 In-Phase Response\n",
      "Figure 8 \n",
      "EM-31 Interpretation\n",
      "Figure 9 \n",
      "EM-31 Interpretation with 1938 Air Photo\n",
      "Golder Associates\n",
      "October 21, 1999 \n",
      "-1- \n",
      "992-1897\n",
      "1 .0 SCOPE OF WORK\n",
      "As requested, Golder Associates Ltd. (Golder) have carried out an electromagnetic terrain \n",
      "conductivity survey (EM-31) at the Okanagan University College campus (OUC) on \n",
      "K.L.O. Road in Kelowna, BC (Figures 1 and 2). The objective of the survey was to \n",
      "delineate buried oxbow channels that were in-filled with landfill debris and, in particular, \n",
      "to locate potentially hazardous targets on the scale of isolated metallic storage tanks and \n",
      "55 gallon drums, particularly within the soccer field area. The geophysical investigation \n",
      "excluded the eastern quarter of the campus (east of Lot 39 in Figure 3) since the former \n",
      "City of Kelowna Landfill (operated until the 1960’s) never included this eastern area. \n",
      "The survey consisted of two areas as shown in Figure 2:\n",
      "1. \n",
      "the initial area of interest, the northern half of Lot 39 (Figure 3) encompassing the \n",
      "present soccer field, is the site of the proposed Kelowna Secondary School (KSS) \n",
      "sports field; and\n",
      "2. \n",
      "the secondary area of interest consists of the majority of the remaining \n",
      "three-quarters of the OUC campus.\n",
      "Outside of the KSS site the survey was optimized with a lower station density to provide \n",
      "the desired coverage at a spatial resolution sufficient to locate most of the possible \n",
      "isolated drum-like targets. Interpretation of the resulting contoured data indicated \n",
      "different areas, or concentrations, of landfill debris, including buried metal and possibly \n",
      "impacted soil to approximately 5.6 m depth.\n",
      "Fieldwork for this investigation was conducted by Rob Luzitano, a Golder geophysicist, \n",
      "from August 4 to 10, 1999. This report summarizes the methods and results of the \n",
      "investigation.\n",
      "2 .0 METHODOLOGY AND SURVEY\n",
      "A clear definition of survey objectives dictates the geophysical methodology to be \n",
      "carried-out. Initially, a Geonics EM-61 survey (a depth-focused metal detector with a \n",
      "3.5m investigation range) was considered for locating exclusively buried metal, \n",
      "particularly drum-sized targets. Since delineating impacted soil and detecting buried \n",
      "non-metallic debris was also of interest an EM conductivity survey was chosen. \n",
      "Selection of appropriate instrumentation also involves a trade-off between depth of \n",
      "investigation and spatial resolution. In general, depth of investigation increases with coil \n",
      "Golder Associates\n",
      "October 21, 1999\n",
      "-2-\n",
      "992-1897\n",
      "separation (Section 2.1) and decreases with frequency. Spatial resolution, however, is \n",
      "improved by decreasing the intercoil spacing and, consequently the volume of soil over \n",
      "which a given reading is averaged.\n",
      "Resolution is defined as the ability to discriminate a target from the background variation \n",
      "or from a neighboring “target.” The concern in this survey is to discriminate from the \n",
      "background variation. Resolution depends primarily on four factors:\n",
      "1. \n",
      "electrical size, i.e., the combination of the target’s physical size and contrast from \n",
      "the host material;\n",
      "2. \n",
      "depth of burial;\n",
      "3. \n",
      "coil spacing; and\n",
      "4. \n",
      "station spacing.\n",
      "Due to this combination of factors, resolution is difficult to quantify with a single value \n",
      "for a given survey. For a metallic target expected to produce a relatively clear response, \n",
      "such as a 55 gallon drum, resolution may depend more on the station spacing. In this \n",
      "case the station spacing of an EM-31 survey should be on the order of 1 to 2 times the \n",
      "target size to ensure adequate sampling to readily resolve the metallic target. The \n",
      "expected resolution for the survey reported here, with 1 m station spacing, is such that an \n",
      "isolated 55 gallon drum-like target, buried in a vertical orientation, could be located on \n",
      "the reference grid within an approximately 3 m hemispherical radius.\n",
      "The survey reported here was carried-out using a Geonics EM-31 which provides an \n",
      "approximate depth of investigation of 5.6 m.\n",
      "2.1 \n",
      "Electromagnetic Terrain Conductivity Mapping (EM-31)\n",
      "The Geonics EM-31 electromagnetic terrain conductivity meter measures soil \n",
      "conductivity from the inductive response of the ground. Basic principles of \n",
      "electromagnetic conductivity mapping are illustrated in Figure 4. An alternating current \n",
      "is supplied to a wire transmitter coil, producing a time-varying (9.8 KHz) magnetic field \n",
      "Bp that penetrates the ground and induces electrical eddy currents Jc within the subsurface \n",
      "materials. These eddy currents give rise to a secondary magnetic field Bs that is \n",
      "measured, together with the primary field, by the receiver coil. Two components of the \n",
      "secondary field are measured:\n",
      "Golder Associates\n",
      "\n"
     ]
    }
   ],
   "source": [
    "print(text2)"
   ]
  },
  {
   "cell_type": "markdown",
   "id": "0ba3cc6a",
   "metadata": {},
   "source": [
    "The same holds true after calling our `clean_ocr_text` function."
   ]
  },
  {
   "cell_type": "code",
   "execution_count": 5,
   "id": "c8449f7c",
   "metadata": {},
   "outputs": [
    {
     "name": "stdout",
     "output_type": "stream",
     "text": [
      "Golder Associates Ltd. 500 - 4260 Still Creek Drive Burnaby, British Columbia, Canada V5C 6C6 Telephone 604 298-6623 Fax 604 298-5253 rGolder Associates REPORT ON ELECTROMAGNETIC TERRAIN CONDUCTrVITY MAPPING: OKANAGAN UNIVERSITY COLLEGE, KELOWNA, B.C. 56350 -2g/s-53 K-V Submitted to: Reid Crowther and Partners Ltd. Suite 201 - 3275 Lakeshore Dr. Kelowna, B.C. V1W 3S9 Attention: Mr. Al Gartner MINISTRY OF ENVIRONMENT, LANDS P JUN 0 1 2000 POLLUTION PREVENTION AND REMEDIATION BRANCH DISTRIBUTION: 10 Copies - Reid Crowther and Partners Ltd., Kelowna, B.C. 1 Copy Reid Crowther and Partners Ltd., Victoria, B.C. 2 Copies- Golder Associates Ltd., Burnaby, B.C. October 1999 992-1897 OFFICES IN AUSTRALIA, CANADA, GERMANY, HUNGARY, ITALY, SWEDEN, UNITED KINGDOM, UNITED STATES October 21, 1999-i-992-1897 TABLE OF CONTENTS Table of Contentsi List of Figuresi SECTION PAGE 1 .0 SCOPE OF WORK................................................................................................ 1 2 .0 METHODOLOGY AND SURVEY...................................................................... 1 2.1 Electromagnetic Terrain Conductivity Mapping EM-31....................... 2 2.2 Field Procedure and Acquisition Parameters.............................................4 2.3 Site Conditions...........................................................................................4 3 .0 RESULTS...............................................................................................................5 3.1 Conductivity Anomalies with Air Photo Correlation............................... 7 3.2 Channel-like Conductivity Anomalies having no Air Photo Correlation.....................................................................................8 3.3 Distinct Indications of Buried Metal or Debris..........................................9 4 .0 SUMMARY AND CONCLUSIONS................................................................... 10 5 .0 CLOSURE.............................................................................................................11 List of Figures Figure 1 Figure 2 Figure 3 Figure 4 Figure 5 Figure 6 Figure 7 Figure 8 Figure 9 Site Location Map Site Map 1938 Air Photo with Lot Boundaries Electromagnetic Measurement Geonics Electromagnetic Response Characteristics EM-31 Apparent Conductivity EM-31 In-Phase Response EM-31 Interpretation EM-31 Interpretation with 1938 Air Photo Golder Associates October 21, 1999 - 1 - 992-1897 1 .0 SCOPE OF WORK As requested, Golder Associates Ltd. Golder have carried out an electromagnetic terrain conductivity survey EM-31 at the Okanagan University College campus OUC on K.L.O. Road in Kelowna, BC Figures 1 and 2. The objective of the survey was to delineate buried oxbow channels that were in-filled with landfill debris and, in particular, to locate potentially hazardous targets on the scale of isolated metallic storage tanks and 55 gallon drums, particularly within the soccer field area. The geophysical investigation excluded the eastern quarter of the campus east of Lot 39 in Figure 3 since the former City of Kelowna Landfill operated until the 1960s never included this eastern area. The survey consisted of two areas as shown in Figure 2: 1. the initial area of interest, the northern half of Lot 39 Figure 3 encompassing the present soccer field, is the site of the proposed Kelowna Secondary School KSS sports field and 2. the secondary area of interest consists of the majority of the remaining three-quarters of the OUC campus. Outside of the KSS site the survey was optimized with a lower station density to provide the desired coverage at a spatial resolution sufficient to locate most of the possible isolated drum-like targets. Interpretation of the resulting contoured data indicated different areas, or concentrations, of landfill debris, including buried metal and possibly impacted soil to approximately 5.6 m depth. Fieldwork for this investigation was conducted by Rob Luzitano, a Golder geophysicist, from August 4 to 10, 1999. This report summarizes the methods and results of the investigation. 2 .0 METHODOLOGY AND SURVEY A clear definition of survey objectives dictates the geophysical methodology to be carried-out. Initially, a Geonics EM-61 survey a depth-focused metal detector with a 3.5m investigation range was considered for locating exclusively buried metal, particularly drum-sized targets. Since delineating impacted soil and detecting buried non-metallic debris was also of interest an EM conductivity survey was chosen. Selection of appropriate instrumentation also involves a trade-off between depth of investigation and spatial resolution. In general, depth of investigation increases with coil Golder Associates October 21, 1999 -2- 992-1897 separation Section 2.1 and decreases with frequency. Spatial resolution, however, is improved by decreasing the intercoil spacing and, consequently the volume of soil over which a given reading is averaged. Resolution is defined as the ability to discriminate a target from the background variation or from a neighboring target. The concern in this survey is to discriminate from the background variation. Resolution depends primarily on four factors: 1. electrical size, i.e., the combination of the targets physical size and contrast from the host material 2. depth of burial 3. coil spacing and 4. station spacing. Due to this combination of factors, resolution is difficult to quantify with a single value for a given survey. For a metallic target expected to produce a relatively clear response, such as a 55 gallon drum, resolution may depend more on the station spacing. In this case the station spacing of an EM-31 survey should be on the order of 1 to 2 times the target size to ensure adequate sampling to readily resolve the metallic target. The expected resolution for the survey reported here, with 1 m station spacing, is such that an isolated 55 gallon drum-like target, buried in a vertical orientation, could be located on the reference grid within an approximately 3 m hemispherical radius. The survey reported here was carried-out using a Geonics EM-31 which provides an approximate depth of investigation of 5.6 m. 2.1 Electromagnetic Terrain Conductivity Mapping EM-31 The Geonics EM-31 electromagnetic terrain conductivity meter measures soil conductivity from the inductive response of the ground. Basic principles of electromagnetic conductivity mapping are illustrated in Figure 4. An alternating current is supplied to a wire transmitter coil, producing a time-varying 9.8 KHz magnetic field Bp that penetrates the ground and induces electrical eddy currents Je within the subsurface materials. These eddy currents give rise to a secondary magnetic field Bs that is measured, together with the primary field, by the receiver coil. Two components of the secondary field are measured: Golder Associates\n"
     ]
    }
   ],
   "source": [
    "print(clean_ocr_text(text1))"
   ]
  },
  {
   "cell_type": "code",
   "execution_count": 6,
   "id": "13bd871a",
   "metadata": {},
   "outputs": [
    {
     "name": "stdout",
     "output_type": "stream",
     "text": [
      "Victoria File WSsrWW3Si I iSKSSSSM tesjiiwi-- ZUS iu9aMaHm 26 - ZO /235 Golder Associates Ltd. 500 - 4260 Still Creek Drive Burnaby, British Columbia, Canada V5C 6C6 Telephone 604 298-6623 Fax 604 298-5253 rGolder Associates REPORT ON ENTERED ON THE SITE INFORMATION SYSfuM Victoria File 26250-20/. 3 Ki/ ELECTROMAGNETIC TERRAIN CONDUCTIVITY MAPPING: OKANAGAN UNIVERSITY COLLEGE, KELOWNA, B.C. Submitted to: Reid Crowther and Partners Ltd. Suite 201 - 3275 Lakeshore Dr. Kelowna, B.C. V1W 3S9 Attention: Mr. Al Gartner DISTRIBUTION: 10 Copies- Reid Crowther and Partners Ltd., Kelowna, B.C. 1 Copy Reid Crowther and Partners Ltd., Victoria, B.C. 2 Copies - Golder Associates Ltd., Burnaby, B.C. October 1999 992-1897 OFFICES IN AUSTRALIA, CANADA, GERMANY, HUNGARY, ITALY, SWEDEN, UNITED KINGDOM, UNITED STATES October 21,1999 - i- 992-1897 TABLE OF CONTENTS Table of Contentsi List of Figuresi SECTION PAGE 1 .0 SCOPE OF WORK.................................................................................................1 2 .0 METHODOLOGY AND SURVEY.......................................................................1 2.1 Electromagnetic Terrain Conductivity Mapping EM-31......................2 2.2 Field Procedure and Acquisition Parameters.............................................4 2.3 Site Conditions...........................................................................................4 3 .0 RESULTS................................................................................................................5 3.1 Conductivity Anomalies with Air Photo Correlation................................7 3.2 Channel-like Conductivity Anomalies having no Air Photo Correlation.....................................................................................8 3.3 Distinct Indications of Buried Metal or Debris..........................................9 4 .0 SUMMARY AND CONCLUSIONS.................................................................... 10 5 .0 CLOSURE............................................................................................................. 11 List of Figures Figure 1 Site Location Map Figure 2 Site Map Figure 3 1938 Air Photo with Lot Boundaries Figure 4 Electromagnetic Measurement Figure 5 Geonics Electromagnetic Response Characteristics Figured EM-31 Apparent Conductivity Figure 7 EM-31 In-Phase Response Figure 8 EM-31 Interpretation Figure 9 EM-31 Interpretation with 1938 Air Photo Golder Associates October 21, 1999 -1- 992-1897 1 .0 SCOPE OF WORK As requested, Golder Associates Ltd. Golder have carried out an electromagnetic terrain conductivity survey EM-31 at the Okanagan University College campus OUC on K.L.O. Road in Kelowna, BC Figures 1 and 2. The objective of the survey was to delineate buried oxbow channels that were in-filled with landfill debris and, in particular, to locate potentially hazardous targets on the scale of isolated metallic storage tanks and 55 gallon drums, particularly within the soccer field area. The geophysical investigation excluded the eastern quarter of the campus east of Lot 39 in Figure 3 since the former City of Kelowna Landfill operated until the 1960s never included this eastern area. The survey consisted of two areas as shown in Figure 2: 1. the initial area of interest, the northern half of Lot 39 Figure 3 encompassing the present soccer field, is the site of the proposed Kelowna Secondary School KSS sports field and 2. the secondary area of interest consists of the majority of the remaining three-quarters of the OUC campus. Outside of the KSS site the survey was optimized with a lower station density to provide the desired coverage at a spatial resolution sufficient to locate most of the possible isolated drum-like targets. Interpretation of the resulting contoured data indicated different areas, or concentrations, of landfill debris, including buried metal and possibly impacted soil to approximately 5.6 m depth. Fieldwork for this investigation was conducted by Rob Luzitano, a Golder geophysicist, from August 4 to 10, 1999. This report summarizes the methods and results of the investigation. 2 .0 METHODOLOGY AND SURVEY A clear definition of survey objectives dictates the geophysical methodology to be carried-out. Initially, a Geonics EM-61 survey a depth-focused metal detector with a 3.5m investigation range was considered for locating exclusively buried metal, particularly drum-sized targets. Since delineating impacted soil and detecting buried non-metallic debris was also of interest an EM conductivity survey was chosen. Selection of appropriate instrumentation also involves a trade-off between depth of investigation and spatial resolution. In general, depth of investigation increases with coil Golder Associates October 21, 1999 -2- 992-1897 separation Section 2.1 and decreases with frequency. Spatial resolution, however, is improved by decreasing the intercoil spacing and, consequently the volume of soil over which a given reading is averaged. Resolution is defined as the ability to discriminate a target from the background variation or from a neighboring target. The concern in this survey is to discriminate from the background variation. Resolution depends primarily on four factors: 1. electrical size, i.e., the combination of the targets physical size and contrast from the host material 2. depth of burial 3. coil spacing and 4. station spacing. Due to this combination of factors, resolution is difficult to quantify with a single value for a given survey. For a metallic target expected to produce a relatively clear response, such as a 55 gallon drum, resolution may depend more on the station spacing. In this case the station spacing of an EM-31 survey should be on the order of 1 to 2 times the target size to ensure adequate sampling to readily resolve the metallic target. The expected resolution for the survey reported here, with 1 m station spacing, is such that an isolated 55 gallon drum-like target, buried in a vertical orientation, could be located on the reference grid within an approximately 3 m hemispherical radius. The survey reported here was carried-out using a Geonics EM-31 which provides an approximate depth of investigation of 5.6 m. 2.1 Electromagnetic Terrain Conductivity Mapping EM-31 The Geonics EM-31 electromagnetic terrain conductivity meter measures soil conductivity from the inductive response of the ground. Basic principles of electromagnetic conductivity mapping are illustrated in Figure 4. An alternating current is supplied to a wire transmitter coil, producing a time-varying 9.8 KHz magnetic field Bp that penetrates the ground and induces electrical eddy currents Jc within the subsurface materials. These eddy currents give rise to a secondary magnetic field Bs that is measured, together with the primary field, by the receiver coil. Two components of the secondary field are measured: Golder Associates\n"
     ]
    }
   ],
   "source": [
    "print(clean_ocr_text(text2))"
   ]
  },
  {
   "cell_type": "markdown",
   "id": "eb3b6605",
   "metadata": {},
   "source": [
    "### Problem: common subsequences present in ground-truth document are not being correctly identified.\n",
    "\n",
    "Calling `SequenceMatcher` below for a low-tech demonstration of how few common subsequences are being caught in our data."
   ]
  },
  {
   "cell_type": "code",
   "execution_count": 7,
   "id": "e2ad9543",
   "metadata": {},
   "outputs": [
    {
     "name": "stdout",
     "output_type": "stream",
     "text": [
      "Match(a=162, b=304, size=32)\n",
      " ELECTROMAGNETIC TERRAIN CONDUCT\n"
     ]
    }
   ],
   "source": [
    "match = SequenceMatcher(None, clean_ocr_text(text1), clean_ocr_text(text2)).find_longest_match()\n",
    "\n",
    "# SequenceMatcher finds only a very short portion (3 tokens!) as a common substring.\n",
    "print(match)\n",
    "print(clean_ocr_text(text1)[match.a:match.a + match.size])"
   ]
  },
  {
   "cell_type": "markdown",
   "id": "f1b26005",
   "metadata": {},
   "source": [
    "### First hypothesis: encoding issues.\n",
    "\n",
    "Encoding and text normalization issues are possible culprits when two OCR-processed documents look visually similar but perform poorly under automated similarity measures like ROUGE or `SequenceMatcher`.\n",
    "\n",
    "This is a longshot but we will explore it here."
   ]
  },
  {
   "cell_type": "markdown",
   "id": "c63a41b1",
   "metadata": {},
   "source": [
    "### Approach: aggressively normalize text and encoding by updating `clean_ocr_text`"
   ]
  },
  {
   "cell_type": "code",
   "execution_count": 8,
   "id": "ec8850dd",
   "metadata": {},
   "outputs": [],
   "source": [
    "import unicodedata\n",
    "import re\n",
    "\n",
    "def clean_ocr_text(text):\n",
    "    # Normalize Unicode (NFKC is stronger than NFC)\n",
    "    text = unicodedata.normalize('NFKC', text)\n",
    "    \n",
    "    # Remove zero-width characters and common OCR junk, as our current function does\n",
    "    text = re.sub(r'[\\u200B-\\u200F\\u202A-\\u202E\\u2060\\uFEFF]', '', text)\n",
    "\n",
    "    # Normalize whitespace (spaces, newlines, etc.)\n",
    "    text = re.sub(r'\\s+', ' ', text)\n",
    "\n",
    "    # Strip leading/trailing whitespace\n",
    "    return text.strip()"
   ]
  },
  {
   "cell_type": "code",
   "execution_count": 9,
   "id": "043c46d6",
   "metadata": {},
   "outputs": [
    {
     "name": "stdout",
     "output_type": "stream",
     "text": [
      "Match(a=166, b=342, size=32)\n",
      " ELECTROMAGNETIC TERRAIN CONDUCT\n"
     ]
    }
   ],
   "source": [
    "match = SequenceMatcher(None, clean_ocr_text(text1), clean_ocr_text(text2)).find_longest_match()\n",
    "\n",
    "# No change here.\n",
    "print(match)\n",
    "print(clean_ocr_text(text1)[match.a:match.a + match.size])\n",
    "\n",
    "# Finding: normalizing to NFKC does not solve the issue. We still only find a subsequence of 3 tokens..."
   ]
  },
  {
   "cell_type": "code",
   "execution_count": 10,
   "id": "ad8fc969",
   "metadata": {},
   "outputs": [],
   "source": [
    "encoded1 = clean_ocr_text(text1).encode('utf-8')\n",
    "encoded2 = clean_ocr_text(text2).encode('utf-8')"
   ]
  },
  {
   "cell_type": "code",
   "execution_count": 12,
   "id": "18d9ba0f",
   "metadata": {},
   "outputs": [
    {
     "name": "stdout",
     "output_type": "stream",
     "text": [
      "Match(a=166, b=349, size=32)\n",
      "b' ELECTROMAGNETIC TERRAIN CONDUCT'\n"
     ]
    }
   ],
   "source": [
    "match = SequenceMatcher(None, encoded1, encoded2).find_longest_match()\n",
    "\n",
    "# No change here.\n",
    "print(match)\n",
    "print(encoded1[match.a:match.a + match.size])\n",
    "\n",
    "# Finding: manual encoding with .encode does not solve the issue either"
   ]
  },
  {
   "cell_type": "markdown",
   "id": "365fd76d",
   "metadata": {},
   "source": [
    "Key finding: playing with unicode encoding settings does not seem to affect the fact that common substrings are not being found.\n",
    "\n",
    "Splitting on whitespace and re-joining somewhat improves our ability to capture common subsequences, though performance is middling - see below"
   ]
  },
  {
   "cell_type": "code",
   "execution_count": 13,
   "id": "dc1d595f",
   "metadata": {},
   "outputs": [
    {
     "name": "stdout",
     "output_type": "stream",
     "text": [
      "Match: Match(a=0, b=14, size=25)\n",
      "Golder Associates Ltd. 500 - 4260 Still Creek Drive Burnaby, British Columbia, Canada V5C 6C6 Telephone (604) 298-6623 Fax (604) 298-5253 rGolder Associates REPORT ON\n"
     ]
    }
   ],
   "source": [
    "text1_clean = clean_ocr_text(text1)\n",
    "text2_clean = clean_ocr_text(text2)\n",
    "\n",
    "words1 = text1_clean.split()\n",
    "words2 = text2_clean.split()\n",
    "\n",
    "matcher = SequenceMatcher(None, words1, words2)\n",
    "match = matcher.find_longest_match(0, len(words1), 0, len(words2))\n",
    "\n",
    "# Result - we get a slightly longer sequence, but not much\n",
    "print(f\"Match: {match}\")\n",
    "print(\" \".join(words1[match.a:match.a + match.size]))"
   ]
  },
  {
   "cell_type": "markdown",
   "id": "3b5afe5c",
   "metadata": {},
   "source": [
    "---\n",
    "\n",
    "### The true culprit = likely OCR junk, screwing up the tokens themselves.\n",
    "\n",
    "See excerpts below to identify how tokens and even the order of tokens are being represented entirely differently on different OCR attempts."
   ]
  },
  {
   "cell_type": "raw",
   "id": "106ccf2d",
   "metadata": {
    "vscode": {
     "languageId": "raw"
    }
   },
   "source": [
    "From text 1:\n",
    "\n",
    "rGolder \n",
    "Associates\n",
    "REPORT ON\n",
    "ELECTROMAGNETIC TERRAIN \n",
    "CONDUCTrVITY MAPPING: \n",
    "OKANAGAN UNIVERSITY COLLEGE, \n",
    "KELOWNA, B.C.\n",
    "56350 -2g/s-53^ K-V\n",
    "Submitted to:\n",
    "\n",
    "...\n",
    "\n",
    "---\n",
    "\n",
    "From text 2:\n",
    "\n",
    "rGolder \n",
    "Associates\n",
    "REPORT ON\n",
    "ENTERED ON THE SITE \n",
    "INFORMATION SYSfuM\n",
    "Victoria File #\n",
    "26250-20/. '^3^ Ki/\n",
    "ELECTROMAGNETIC TERRAIN \n",
    "CONDUCTIVITY MAPPING: \n",
    "OKANAGAN UNIVERSITY COLLEGE, \n",
    "KELOWNA, B.C.\n",
    "Submitted to:\n",
    "\n",
    "...\n"
   ]
  },
  {
   "cell_type": "markdown",
   "id": "78a26cb5",
   "metadata": {},
   "source": [
    "### Next approach: `rapidfuzz`\n",
    "\n",
    "`rapidfuzz` is a fast string matching library for Python.\n",
    "\n",
    "### `fuzz.ratio`\n",
    "Fuzz Ratio is useful when you need to compare two strings and determine their overall similarity. It’s effective for identifying similar strings that may have minor differences due to typos or spelling variations.\n",
    "\n",
    "### `fuzz.token_sort_ratio`\n",
    "Tokenizes the strings, sorts the tokens alphabetically, and then calculates the ratio. Ignores token order.\n",
    "\n",
    "Note that with either of these, `100.00` indicates an exact match."
   ]
  },
  {
   "cell_type": "code",
   "execution_count": 14,
   "id": "aa66da69",
   "metadata": {},
   "outputs": [
    {
     "name": "stdout",
     "output_type": "stream",
     "text": [
      "fuzz.ratio similarity: 96.7181328545781\n"
     ]
    }
   ],
   "source": [
    "from rapidfuzz import fuzz\n",
    "\n",
    "# Success! Fuzzy ratio is correctly finding that these are extremely similar documents.\n",
    "\n",
    "score = fuzz.ratio(text1_clean, text2_clean)\n",
    "print(f\"fuzz.ratio similarity: {score}\")"
   ]
  },
  {
   "cell_type": "code",
   "execution_count": null,
   "id": "13c2711a",
   "metadata": {},
   "outputs": [
    {
     "name": "stdout",
     "output_type": "stream",
     "text": [
      "fuzz.token_sort_ratio similarity: 97.42190305206464\n"
     ]
    }
   ],
   "source": [
    "# Ignoring token order further improves the score; caution, however, that this may inflate scores on non-duplicate document similarities.\n",
    "\n",
    "score = fuzz.token_sort_ratio(text1_clean, text2_clean)\n",
    "print(f\"fuzz.token_sort_ratio similarity: {score}\")"
   ]
  },
  {
   "cell_type": "markdown",
   "id": "f706503f",
   "metadata": {},
   "source": [
    "### Initial conclusions: `rapidfuzz` may be useful to flag documents for manual review\n",
    "\n",
    "If a document receives a low ROUGE score but a very high fuzzy similarity score, it may be a good candidate for manual review. We will explore this going forward."
   ]
  }
 ],
 "metadata": {
  "kernelspec": {
   "display_name": "COLX",
   "language": "python",
   "name": "python3"
  },
  "language_info": {
   "codemirror_mode": {
    "name": "ipython",
    "version": 3
   },
   "file_extension": ".py",
   "mimetype": "text/x-python",
   "name": "python",
   "nbconvert_exporter": "python",
   "pygments_lexer": "ipython3",
   "version": "3.10.16"
  }
 },
 "nbformat": 4,
 "nbformat_minor": 5
}
